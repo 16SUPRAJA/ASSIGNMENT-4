{
 "cells": [
  {
   "cell_type": "markdown",
   "id": "616c4ddf",
   "metadata": {},
   "source": [
    "## 1. What exactly is []?"
   ]
  },
  {
   "cell_type": "code",
   "execution_count": 2,
   "id": "98c69e2d",
   "metadata": {},
   "outputs": [],
   "source": [
    "A=[]    # it is an empty list"
   ]
  },
  {
   "cell_type": "code",
   "execution_count": 3,
   "id": "065e26d7",
   "metadata": {},
   "outputs": [
    {
     "data": {
      "text/plain": [
       "list"
      ]
     },
     "execution_count": 3,
     "metadata": {},
     "output_type": "execute_result"
    }
   ],
   "source": [
    "type([])"
   ]
  },
  {
   "cell_type": "markdown",
   "id": "c8920fa5",
   "metadata": {},
   "source": [
    "## 2. In a list of values stored in a variable called spam, how would you assign the value 'hello' as the third value? (Assume [2, 4, 6, 8, 10] are in spam.)\n"
   ]
  },
  {
   "cell_type": "code",
   "execution_count": 7,
   "id": "7dd333ea",
   "metadata": {},
   "outputs": [
    {
     "data": {
      "text/plain": [
       "[2, 4, 'hello', 8, 10]"
      ]
     },
     "execution_count": 7,
     "metadata": {},
     "output_type": "execute_result"
    }
   ],
   "source": [
    "spam=[2,4,6,8,10]\n",
    "spam[2]='hello'\n",
    "spam"
   ]
  },
  {
   "cell_type": "raw",
   "id": "791321ff",
   "metadata": {},
   "source": [
    "Let's pretend the spam includes the list ['a', 'b', 'c', 'd'] for the next three queries."
   ]
  },
  {
   "cell_type": "markdown",
   "id": "fcede8ac",
   "metadata": {},
   "source": [
    "## 3. What is the value of spam[int(int('3' * 2) / 11)]?"
   ]
  },
  {
   "cell_type": "code",
   "execution_count": 8,
   "id": "59539a37",
   "metadata": {},
   "outputs": [
    {
     "data": {
      "text/plain": [
       "'d'"
      ]
     },
     "execution_count": 8,
     "metadata": {},
     "output_type": "execute_result"
    }
   ],
   "source": [
    "spam=['a','b','c','d']\n",
    "spam[int(int('3' * 2) / 11)]           "
   ]
  },
  {
   "cell_type": "markdown",
   "id": "a703caa3",
   "metadata": {},
   "source": [
    "## 4. What is the value of spam[-1]?"
   ]
  },
  {
   "cell_type": "code",
   "execution_count": 9,
   "id": "fa05d95d",
   "metadata": {},
   "outputs": [
    {
     "data": {
      "text/plain": [
       "'d'"
      ]
     },
     "execution_count": 9,
     "metadata": {},
     "output_type": "execute_result"
    }
   ],
   "source": [
    "spam[-1]"
   ]
  },
  {
   "cell_type": "markdown",
   "id": "2bdb4fac",
   "metadata": {},
   "source": [
    "## 5. What is the value of spam[:2]?"
   ]
  },
  {
   "cell_type": "code",
   "execution_count": 10,
   "id": "dca589bd",
   "metadata": {},
   "outputs": [
    {
     "data": {
      "text/plain": [
       "['a', 'b']"
      ]
     },
     "execution_count": 10,
     "metadata": {},
     "output_type": "execute_result"
    }
   ],
   "source": [
    "spam[:2]"
   ]
  },
  {
   "cell_type": "raw",
   "id": "36ca22a7",
   "metadata": {},
   "source": [
    "Let's pretend bacon has the list [3.14, 'cat,' 11, 'cat,' True] for the next three questions."
   ]
  },
  {
   "cell_type": "code",
   "execution_count": 1,
   "id": "b92028c1",
   "metadata": {},
   "outputs": [],
   "source": [
    "bacon=[3.14, 'cat', 11, 'cat', True]"
   ]
  },
  {
   "cell_type": "markdown",
   "id": "da463017",
   "metadata": {},
   "source": [
    "## 6. What is the value of bacon.index('cat')?"
   ]
  },
  {
   "cell_type": "code",
   "execution_count": 2,
   "id": "b8713420",
   "metadata": {},
   "outputs": [
    {
     "data": {
      "text/plain": [
       "1"
      ]
     },
     "execution_count": 2,
     "metadata": {},
     "output_type": "execute_result"
    }
   ],
   "source": [
    "bacon.index('cat')   # it takes first cat index value"
   ]
  },
  {
   "cell_type": "markdown",
   "id": "1da9066e",
   "metadata": {},
   "source": [
    "## 7. How does bacon.append(99) change the look of the list value in bacon?"
   ]
  },
  {
   "cell_type": "code",
   "execution_count": 3,
   "id": "060402bd",
   "metadata": {},
   "outputs": [
    {
     "data": {
      "text/plain": [
       "[3.14, 'cat', 11, 'cat', True, 99]"
      ]
     },
     "execution_count": 3,
     "metadata": {},
     "output_type": "execute_result"
    }
   ],
   "source": [
    "bacon.append(99)\n",
    "bacon"
   ]
  },
  {
   "cell_type": "markdown",
   "id": "6976377c",
   "metadata": {},
   "source": [
    "## 8. How does bacon.remove('cat') change the look of the list in bacon?\n"
   ]
  },
  {
   "cell_type": "code",
   "execution_count": 4,
   "id": "961d808d",
   "metadata": {},
   "outputs": [],
   "source": [
    "bacon.remove('cat')"
   ]
  },
  {
   "cell_type": "code",
   "execution_count": 5,
   "id": "b2752c9c",
   "metadata": {},
   "outputs": [
    {
     "data": {
      "text/plain": [
       "[3.14, 11, 'cat', True, 99]"
      ]
     },
     "execution_count": 5,
     "metadata": {},
     "output_type": "execute_result"
    }
   ],
   "source": [
    "bacon"
   ]
  },
  {
   "cell_type": "markdown",
   "id": "922244f2",
   "metadata": {},
   "source": [
    "## 9. What are the list concatenation and list replication operators?"
   ]
  },
  {
   "cell_type": "markdown",
   "id": "91431bbe",
   "metadata": {},
   "source": [
    "list concatenation is which adds two lists the operator is '+'\n",
    "list replication is where the same list is repeated user required number of times the operator is '*'"
   ]
  },
  {
   "cell_type": "markdown",
   "id": "8266a58b",
   "metadata": {},
   "source": [
    "## 10. What is difference between the list methods append() and insert()?"
   ]
  },
  {
   "cell_type": "markdown",
   "id": "fe19431d",
   "metadata": {},
   "source": [
    "Append adds the given value at end of the list where as insert adds at specified index in the list."
   ]
  },
  {
   "cell_type": "code",
   "execution_count": 11,
   "id": "0704ef78",
   "metadata": {},
   "outputs": [
    {
     "data": {
      "text/plain": [
       "[1, 'ss', 5, 8, 4]"
      ]
     },
     "execution_count": 11,
     "metadata": {},
     "output_type": "execute_result"
    }
   ],
   "source": [
    "a=[1,5,8,4]\n",
    "a.insert(1,\"ss\")\n",
    "a"
   ]
  },
  {
   "cell_type": "markdown",
   "id": "183a3c8d",
   "metadata": {},
   "source": [
    "## 11. What are the two methods for removing items from a list?"
   ]
  },
  {
   "cell_type": "markdown",
   "id": "d4dc8434",
   "metadata": {},
   "source": [
    "The 'del' and 'remove()' are the two methods for removing items from a list."
   ]
  },
  {
   "cell_type": "code",
   "execution_count": 12,
   "id": "bbe84e5d",
   "metadata": {},
   "outputs": [],
   "source": [
    "a.remove(1)"
   ]
  },
  {
   "cell_type": "code",
   "execution_count": 13,
   "id": "782a1ac8",
   "metadata": {},
   "outputs": [
    {
     "data": {
      "text/plain": [
       "['ss', 5, 8, 4]"
      ]
     },
     "execution_count": 13,
     "metadata": {},
     "output_type": "execute_result"
    }
   ],
   "source": [
    "a"
   ]
  },
  {
   "cell_type": "code",
   "execution_count": 14,
   "id": "93931822",
   "metadata": {},
   "outputs": [
    {
     "data": {
      "text/plain": [
       "['ss', 5, 8]"
      ]
     },
     "execution_count": 14,
     "metadata": {},
     "output_type": "execute_result"
    }
   ],
   "source": [
    "del a[-1]\n",
    "a"
   ]
  },
  {
   "cell_type": "markdown",
   "id": "33103a4c",
   "metadata": {},
   "source": [
    "## 12. Describe how list values and string values are identical."
   ]
  },
  {
   "cell_type": "markdown",
   "id": "c87e44db",
   "metadata": {},
   "source": [
    "list and string have length,indices,they can be sliced,concatinated,replicated used in loops also."
   ]
  },
  {
   "cell_type": "markdown",
   "id": "a6b638ec",
   "metadata": {},
   "source": [
    "## 13. What's the difference between tuples and lists?"
   ]
  },
  {
   "cell_type": "markdown",
   "id": "81a4daaf",
   "metadata": {},
   "source": [
    "Tuples are immutable,they are fixed and defined by (). Where lists are mutable can be modified and denoted by []."
   ]
  },
  {
   "cell_type": "markdown",
   "id": "280def65",
   "metadata": {},
   "source": [
    "## 14. How do you type a tuple value that only contains the integer 42?"
   ]
  },
  {
   "cell_type": "code",
   "execution_count": 21,
   "id": "4985779f",
   "metadata": {},
   "outputs": [],
   "source": [
    "t=(42,)"
   ]
  },
  {
   "cell_type": "markdown",
   "id": "5dc3b3cd",
   "metadata": {},
   "source": [
    "## 15. How do you get a list value's tuple form? How do you get a tuple value's list form?"
   ]
  },
  {
   "cell_type": "code",
   "execution_count": 24,
   "id": "11442f2f",
   "metadata": {},
   "outputs": [
    {
     "data": {
      "text/plain": [
       "(4, 5, 8, 7, 3)"
      ]
     },
     "execution_count": 24,
     "metadata": {},
     "output_type": "execute_result"
    }
   ],
   "source": [
    "l=[4,5,8,7,3]\n",
    "tuple(l)"
   ]
  },
  {
   "cell_type": "code",
   "execution_count": 25,
   "id": "e3be010c",
   "metadata": {},
   "outputs": [
    {
     "data": {
      "text/plain": [
       "[9, 8, 7, 4]"
      ]
     },
     "execution_count": 25,
     "metadata": {},
     "output_type": "execute_result"
    }
   ],
   "source": [
    "t=(9,8,7,4)\n",
    "list(t)"
   ]
  },
  {
   "cell_type": "markdown",
   "id": "d640ea5e",
   "metadata": {},
   "source": [
    "Using list() and tuple() functions we can convert."
   ]
  },
  {
   "cell_type": "markdown",
   "id": "331b0237",
   "metadata": {},
   "source": [
    "## 16. Variables that \"contain\" list values are not necessarily lists themselves. Instead, what do they contain?"
   ]
  },
  {
   "cell_type": "markdown",
   "id": "9115e5aa",
   "metadata": {},
   "source": [
    "They contain integers, strings, floats, tuples, lists values."
   ]
  },
  {
   "cell_type": "markdown",
   "id": "b3e24528",
   "metadata": {},
   "source": [
    "## 17. How do you distinguish between copy.copy() and copy.deepcopy()?\n"
   ]
  },
  {
   "cell_type": "markdown",
   "id": "51bf1716",
   "metadata": {},
   "source": [
    "copy.copy() it is a shallow copy where pointer points to same copy of objects. In nested list if one variable nested value is changed it changes in both cases. Where in copy.deepcopy() copy of each object is created, in nested lists when value is re assigned in one case other does not change."
   ]
  },
  {
   "cell_type": "code",
   "execution_count": 10,
   "id": "3373c9fa",
   "metadata": {},
   "outputs": [],
   "source": [
    "import copy\n",
    "l=[1,2,3,4]\n",
    "l2=copy.copy(l)"
   ]
  },
  {
   "cell_type": "code",
   "execution_count": 11,
   "id": "3658bfc3",
   "metadata": {},
   "outputs": [
    {
     "data": {
      "text/plain": [
       "[1, 500, 3, 4]"
      ]
     },
     "execution_count": 11,
     "metadata": {},
     "output_type": "execute_result"
    }
   ],
   "source": [
    "l2[1]=500\n",
    "l2"
   ]
  },
  {
   "cell_type": "code",
   "execution_count": 12,
   "id": "390c3d89",
   "metadata": {},
   "outputs": [
    {
     "data": {
      "text/plain": [
       "[1, 2, 3, 4]"
      ]
     },
     "execution_count": 12,
     "metadata": {},
     "output_type": "execute_result"
    }
   ],
   "source": [
    "l"
   ]
  },
  {
   "cell_type": "code",
   "execution_count": 13,
   "id": "8cbba30a",
   "metadata": {},
   "outputs": [],
   "source": [
    "l3=copy.deepcopy(l)"
   ]
  },
  {
   "cell_type": "code",
   "execution_count": 14,
   "id": "87b99404",
   "metadata": {},
   "outputs": [
    {
     "data": {
      "text/plain": [
       "[1, 2, 'hai', 4]"
      ]
     },
     "execution_count": 14,
     "metadata": {},
     "output_type": "execute_result"
    }
   ],
   "source": [
    "l3[2]='hai'\n",
    "l3"
   ]
  },
  {
   "cell_type": "code",
   "execution_count": 15,
   "id": "f020fdae",
   "metadata": {},
   "outputs": [
    {
     "data": {
      "text/plain": [
       "[1, 2, 3, 4]"
      ]
     },
     "execution_count": 15,
     "metadata": {},
     "output_type": "execute_result"
    }
   ],
   "source": [
    "l"
   ]
  },
  {
   "cell_type": "code",
   "execution_count": 16,
   "id": "59714a6d",
   "metadata": {},
   "outputs": [
    {
     "data": {
      "text/plain": [
       "[[1, 2, 3, 4], ['hey', 8, 7, 4], [4, 5, 6, 8]]"
      ]
     },
     "execution_count": 16,
     "metadata": {},
     "output_type": "execute_result"
    }
   ],
   "source": [
    "l=[[1,2,3,4],[9,8,7,4],[4,5,6,8]]\n",
    "l1=copy.copy(l)\n",
    "l1[1][0]='hey'\n",
    "l1"
   ]
  },
  {
   "cell_type": "code",
   "execution_count": 17,
   "id": "f15b9a27",
   "metadata": {},
   "outputs": [
    {
     "data": {
      "text/plain": [
       "[[1, 2, 3, 4], ['hey', 8, 7, 4], [4, 5, 6, 8]]"
      ]
     },
     "execution_count": 17,
     "metadata": {},
     "output_type": "execute_result"
    }
   ],
   "source": [
    "l"
   ]
  },
  {
   "cell_type": "code",
   "execution_count": 18,
   "id": "8b1d71ff",
   "metadata": {},
   "outputs": [
    {
     "data": {
      "text/plain": [
       "[[1, 2, 3, 4], ['hai', 8, 7, 4], [4, 5, 6, 8]]"
      ]
     },
     "execution_count": 18,
     "metadata": {},
     "output_type": "execute_result"
    }
   ],
   "source": [
    "l2=copy.deepcopy(l)\n",
    "l2[1][0]='hai'\n",
    "l2"
   ]
  },
  {
   "cell_type": "code",
   "execution_count": 19,
   "id": "11266d94",
   "metadata": {},
   "outputs": [
    {
     "data": {
      "text/plain": [
       "[[1, 2, 3, 4], ['hey', 8, 7, 4], [4, 5, 6, 8]]"
      ]
     },
     "execution_count": 19,
     "metadata": {},
     "output_type": "execute_result"
    }
   ],
   "source": [
    "l"
   ]
  },
  {
   "cell_type": "code",
   "execution_count": null,
   "id": "fa603157",
   "metadata": {},
   "outputs": [],
   "source": []
  }
 ],
 "metadata": {
  "kernelspec": {
   "display_name": "Python 3",
   "language": "python",
   "name": "python3"
  },
  "language_info": {
   "codemirror_mode": {
    "name": "ipython",
    "version": 3
   },
   "file_extension": ".py",
   "mimetype": "text/x-python",
   "name": "python",
   "nbconvert_exporter": "python",
   "pygments_lexer": "ipython3",
   "version": "3.8.8"
  }
 },
 "nbformat": 4,
 "nbformat_minor": 5
}
